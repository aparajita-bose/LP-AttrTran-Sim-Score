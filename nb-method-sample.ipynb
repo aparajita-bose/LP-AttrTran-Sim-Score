{
 "cells": [
  {
   "cell_type": "code",
   "execution_count": 16,
   "metadata": {},
   "outputs": [
    {
     "name": "stdout",
     "output_type": "stream",
     "text": [
      "The autoreload extension is already loaded. To reload it, use:\n",
      "  %reload_ext autoreload\n"
     ]
    }
   ],
   "source": [
    "%load_ext autoreload\n",
    "%autoreload 2"
   ]
  },
  {
   "cell_type": "code",
   "execution_count": 20,
   "metadata": {},
   "outputs": [],
   "source": [
    "import functions\n",
    "import plot"
   ]
  },
  {
   "cell_type": "code",
   "execution_count": 18,
   "metadata": {},
   "outputs": [
    {
     "data": {
      "text/html": [
       "<div>\n",
       "<style scoped>\n",
       "    .dataframe tbody tr th:only-of-type {\n",
       "        vertical-align: middle;\n",
       "    }\n",
       "\n",
       "    .dataframe tbody tr th {\n",
       "        vertical-align: top;\n",
       "    }\n",
       "\n",
       "    .dataframe thead th {\n",
       "        text-align: right;\n",
       "    }\n",
       "</style>\n",
       "<table border=\"1\" class=\"dataframe\">\n",
       "  <thead>\n",
       "    <tr style=\"text-align: right;\">\n",
       "      <th></th>\n",
       "      <th>DATE</th>\n",
       "      <th>SOURCE_ID</th>\n",
       "      <th>SOURCE_SIC_CODE</th>\n",
       "      <th>TARGET_ID</th>\n",
       "      <th>TARGET_SIC_CODE</th>\n",
       "    </tr>\n",
       "  </thead>\n",
       "  <tbody>\n",
       "    <tr>\n",
       "      <th>0</th>\n",
       "      <td>20021126</td>\n",
       "      <td>616</td>\n",
       "      <td>J5822</td>\n",
       "      <td>157</td>\n",
       "      <td>C2632</td>\n",
       "    </tr>\n",
       "    <tr>\n",
       "      <th>1</th>\n",
       "      <td>20030407</td>\n",
       "      <td>478</td>\n",
       "      <td>J5822</td>\n",
       "      <td>230</td>\n",
       "      <td>J6202</td>\n",
       "    </tr>\n",
       "    <tr>\n",
       "      <th>2</th>\n",
       "      <td>20030407</td>\n",
       "      <td>478</td>\n",
       "      <td>J5822</td>\n",
       "      <td>26</td>\n",
       "      <td>G4651</td>\n",
       "    </tr>\n",
       "    <tr>\n",
       "      <th>3</th>\n",
       "      <td>20050705</td>\n",
       "      <td>272</td>\n",
       "      <td>J5822</td>\n",
       "      <td>570</td>\n",
       "      <td>C2642</td>\n",
       "    </tr>\n",
       "    <tr>\n",
       "      <th>4</th>\n",
       "      <td>20050706</td>\n",
       "      <td>233</td>\n",
       "      <td>J5822</td>\n",
       "      <td>395</td>\n",
       "      <td>J5822</td>\n",
       "    </tr>\n",
       "    <tr>\n",
       "      <th>...</th>\n",
       "      <td>...</td>\n",
       "      <td>...</td>\n",
       "      <td>...</td>\n",
       "      <td>...</td>\n",
       "      <td>...</td>\n",
       "    </tr>\n",
       "    <tr>\n",
       "      <th>12755</th>\n",
       "      <td>20150424</td>\n",
       "      <td>711</td>\n",
       "      <td>J6202</td>\n",
       "      <td>435</td>\n",
       "      <td>J6202</td>\n",
       "    </tr>\n",
       "    <tr>\n",
       "      <th>12756</th>\n",
       "      <td>20150425</td>\n",
       "      <td>242</td>\n",
       "      <td>J6121</td>\n",
       "      <td>138</td>\n",
       "      <td>G4651</td>\n",
       "    </tr>\n",
       "    <tr>\n",
       "      <th>12757</th>\n",
       "      <td>20150425</td>\n",
       "      <td>702</td>\n",
       "      <td>J5822</td>\n",
       "      <td>245</td>\n",
       "      <td>F4232</td>\n",
       "    </tr>\n",
       "    <tr>\n",
       "      <th>12758</th>\n",
       "      <td>20150425</td>\n",
       "      <td>48</td>\n",
       "      <td>J5822</td>\n",
       "      <td>245</td>\n",
       "      <td>F4232</td>\n",
       "    </tr>\n",
       "    <tr>\n",
       "      <th>12759</th>\n",
       "      <td>20150427</td>\n",
       "      <td>266</td>\n",
       "      <td>J5822</td>\n",
       "      <td>358</td>\n",
       "      <td>J6202</td>\n",
       "    </tr>\n",
       "  </tbody>\n",
       "</table>\n",
       "<p>12760 rows × 5 columns</p>\n",
       "</div>"
      ],
      "text/plain": [
       "           DATE  SOURCE_ID SOURCE_SIC_CODE  TARGET_ID TARGET_SIC_CODE\n",
       "0      20021126        616           J5822        157           C2632\n",
       "1      20030407        478           J5822        230           J6202\n",
       "2      20030407        478           J5822         26           G4651\n",
       "3      20050705        272           J5822        570           C2642\n",
       "4      20050706        233           J5822        395           J5822\n",
       "...         ...        ...             ...        ...             ...\n",
       "12755  20150424        711           J6202        435           J6202\n",
       "12756  20150425        242           J6121        138           G4651\n",
       "12757  20150425        702           J5822        245           F4232\n",
       "12758  20150425         48           J5822        245           F4232\n",
       "12759  20150427        266           J5822        358           J6202\n",
       "\n",
       "[12760 rows x 5 columns]"
      ]
     },
     "execution_count": 18,
     "metadata": {},
     "output_type": "execute_result"
    }
   ],
   "source": [
    "# LOAD CSV DATA TO DATAFRAME\n",
    "\n",
    "df = functions.get_data(path=\"data-sample.csv\")\n",
    "\n",
    "df"
   ]
  },
  {
   "cell_type": "code",
   "execution_count": 19,
   "metadata": {},
   "outputs": [],
   "source": [
    "# PREPARE DATA FROM DATAFRAME\n",
    "\n",
    "data = functions.prepare_data(df)"
   ]
  },
  {
   "cell_type": "code",
   "execution_count": 13,
   "metadata": {},
   "outputs": [
    {
     "data": {
      "text/plain": [
       "array([[ 0.        ,  0.        ,  0.        , ...,  0.        ,\n",
       "         0.        ,  0.        ],\n",
       "       [ 0.        ,  0.        ,  0.        , ...,  0.        ,\n",
       "         0.        ,  0.        ],\n",
       "       [ 0.        ,  0.        ,  0.        , ...,  0.        ,\n",
       "         0.        ,  0.        ],\n",
       "       ...,\n",
       "       [ 5.28989475, 10.38256608,  7.0958562 , ...,  6.6773889 ,\n",
       "         0.        , 16.41272113],\n",
       "       [ 3.89635613,  7.6639115 ,  4.08716539, ...,  4.44919891,\n",
       "         0.        ,  8.60126836],\n",
       "       [ 4.88659956, 10.67153917,  6.23413329, ...,  5.51459079,\n",
       "         0.        , 12.36603857]])"
      ]
     },
     "execution_count": 13,
     "metadata": {},
     "output_type": "execute_result"
    }
   ],
   "source": [
    "# COMPUTE SIMILARITY SCORE MATRIX\n",
    "\n",
    "m = 2 # neighbor parameters\n",
    "alpha = 0.001  # influence\n",
    "gamma = 0.8 # tuning parameter\n",
    "\n",
    "p_matrix = functions.compute_lp_ats_p_matrix(data, m=m, alpha=alpha, gamma=gamma)\n",
    "\n",
    "p_matrix"
   ]
  },
  {
   "cell_type": "code",
   "execution_count": 14,
   "metadata": {},
   "outputs": [
    {
     "data": {
      "text/plain": [
       "Result(roc_auc=0.8124725962226508, fpr=array([0.00000000e+00, 1.98564774e-06, 5.02368878e-04, ...,\n",
       "       7.89678206e-01, 7.89682177e-01, 1.00000000e+00]), tpr=array([0.        , 0.        , 0.        , ..., 0.95679012, 0.95679012,\n",
       "       1.        ]))"
      ]
     },
     "execution_count": 14,
     "metadata": {},
     "output_type": "execute_result"
    }
   ],
   "source": [
    "# MEASURE RESULT\n",
    "\n",
    "res = functions.measure_result(data, p_matrix=p_matrix)\n",
    "\n",
    "res"
   ]
  },
  {
   "cell_type": "code",
   "execution_count": 21,
   "metadata": {},
   "outputs": [
    {
     "data": {
      "image/png": "[encoded data removed]",
      "text/plain": [
       "<Figure size 640x480 with 1 Axes>"
      ]
     },
     "metadata": {},
     "output_type": "display_data"
    }
   ],
   "source": [
    "# PLOT RESULT\n",
    "\n",
    "plot.plot_roc(res.roc_auc, res.fpr, res.tpr)"
   ]
  }
 ],
 "metadata": {
  "kernelspec": {
   "display_name": "LP-ATS",
   "language": "python",
   "name": "python3"
  },
  "language_info": {
   "codemirror_mode": {
    "name": "ipython",
    "version": 3
   },
   "file_extension": ".py",
   "mimetype": "text/x-python",
   "name": "python",
   "nbconvert_exporter": "python",
   "pygments_lexer": "ipython3",
   "version": "3.12.1"
  }
 },
 "nbformat": 4,
 "nbformat_minor": 2
}
